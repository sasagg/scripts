{
 "cells": [
  {
   "cell_type": "code",
   "execution_count": 3,
   "metadata": {},
   "outputs": [],
   "source": [
    "import xlwings as xw\n",
    "import openpyxl\n",
    "from openpyxl.styles.borders import Border, Side\n",
    "from openpyxl.styles import PatternFill\n",
    "from openpyxl.utils.cell import coordinate_from_string, column_index_from_string\n",
    "from openpyxl.utils import get_column_letter\n"
   ]
  },
  {
   "cell_type": "code",
   "execution_count": 47,
   "metadata": {},
   "outputs": [
    {
     "output_type": "stream",
     "name": "stdout",
     "text": [
      "{'bunsho': ['あいう', 'え', 'お'], 'shubetu': ['か', 'き', 'く'], 'biko': ['', '舌と同じ', '']}\n"
     ]
    }
   ],
   "source": [
    "save_path = \"./\"\n",
    "merged_cells_dict = {}\n",
    "for r in ws.merged_cells.ranges:\n",
    "        merged_cells = list(openpyxl.utils.rows_from_range(str(r)))\n",
    "        merged_cells = list(sum(merged_cells,() ))\n",
    "        merged_cells_dict[ str(r)] = merged_cells\n",
    "\n",
    "data_json = {\"bunsho\":[],\"shubetu\":[],\"biko\":[]}\n",
    "for col in ws.iter_cols(min_col=4,max_col=4):\n",
    "    for cell in col:\n",
    "        if cell.value:\n",
    "            cell_type, cell_value,cell_coord, cell_range = getMergedCellValue(ws, cell)\n",
    "            if cell_value == None:\n",
    "                data_json[\"shubetu\"].append(\"\")\n",
    "            else:\n",
    "                data_json[\"shubetu\"].append(cell_value)\n",
    "            bunsho,biko = [],[]\n",
    "            for i in range(len(cell_range)):\n",
    "                if ws[cell_range[i].replace(\"D\",\"A\")].value:\n",
    "                    bunsho.append(str(ws[cell_range[i].replace(\"D\",\"A\")].value))\n",
    "                if ws[cell_range[i].replace(\"D\",\"E\")].value:\n",
    "                    biko.append(str(ws[cell_range[i].replace(\"D\",\"E\")].value))\n",
    "            if len(bunsho) >0:\n",
    "                data_json[\"bunsho\"].append(\"\".join(bunsho))\n",
    "            else:\n",
    "                data_json[\"bunsho\"].append(\"\") \n",
    "            if len(biko) >0:\n",
    "                data_json[\"biko\"].append(\"\".join(biko))\n",
    "            else:\n",
    "                data_json[\"biko\"].append(\"\") \n",
    "        \n",
    "print(data_json)\n",
    "import pickle\n",
    "with open(save_pah'data.json', 'wb') as fp:\n",
    "    pickle.dump(data_json, fp)  "
   ]
  },
  {
   "cell_type": "code",
   "execution_count": 44,
   "metadata": {},
   "outputs": [],
   "source": [
    "# import pickle\n",
    "# with open('data.json', 'wb') as fp:\n",
    "#     pickle.dump(data_json, fp)\n",
    "# with open('data.json', 'rb') as fp:\n",
    "#     data = pickle.load(fp)    "
   ]
  },
  {
   "cell_type": "code",
   "execution_count": 6,
   "metadata": {},
   "outputs": [],
   "source": [
    "import os,shutil,glob\n",
    "\n",
    "path_list = [r\"C:\\Users\\SG\\Downloads\\Solar_Panel_Soiling_Image_dataset\\x_means\",r\"C:\\Users\\SG\\Downloads\\Solar_Panel_Soiling_Image_dataset\\x_means\\img_0\"]\n",
    "files = sum([glob.glob(path+\"\\*\") for path in path_list],[])\n",
    "files = sorted([os.path.basename(file) for file in files])\n"
   ]
  }
 ],
 "metadata": {
  "kernelspec": {
   "name": "python3",
   "display_name": "Python 3",
   "language": "python"
  },
  "language_info": {
   "codemirror_mode": {
    "name": "ipython",
    "version": 3
   },
   "file_extension": ".py",
   "mimetype": "text/x-python",
   "name": "python",
   "nbconvert_exporter": "python",
   "pygments_lexer": "ipython3",
   "version": "3.7.6-final"
  }
 },
 "nbformat": 4,
 "nbformat_minor": 4
}