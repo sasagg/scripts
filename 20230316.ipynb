{
 "cells": [
  {
   "cell_type": "code",
   "execution_count": 176,
   "metadata": {},
   "outputs": [],
   "source": [
    "import numpy as np\n",
    "\n",
    "# オイラー角を定義する\n",
    "roll = np.deg2rad(30)\n",
    "pitch = np.deg2rad(60)\n",
    "yaw = np.deg2rad(90)\n",
    "\n",
    "# オイラー角をクォータニオンに変換する\n",
    "c1 = np.cos(roll/2)\n",
    "s1 = np.sin(roll/2)\n",
    "c2 = np.cos(pitch/2)\n",
    "s2 = np.sin(pitch/2)\n",
    "c3 = np.cos(yaw/2)\n",
    "s3 = np.sin(yaw/2)\n",
    "\n",
    "q0 = c1*c2*c3 + s1*s2*s3\n",
    "q1 = s1*c2*c3 - c1*s2*s3\n",
    "q2 = c1*s2*c3 + s1*c2*s3\n",
    "q3 = c1*c2*s3 - s1*s2*c3\n",
    "\n",
    "q = np.array([q0, q1, q2, q3])\n",
    "\n",
    "# クォータニオンを回転行列に変換する\n",
    "R = np.array([[1-2*(q2**2+q3**2), 2*(q1*q2-q0*q3), 2*(q1*q3+q0*q2)],\n",
    "              [2*(q1*q2+q0*q3), 1-2*(q1**2+q3**2), 2*(q2*q3-q0*q1)],\n",
    "              [2*(q1*q3-q0*q2), 2*(q2*q3+q0*q1), 1-2*(q1**2+q2**2)]])\n",
    "\n",
    "# 回転行列から方位を算出する\n",
    "theta = np.arctan2(R[1, 0], R[0, 0])\n",
    "psi = np.arctan2(-R[2, 0], np.sqrt(R[2, 1]**2 + R[2, 2]**2))\n",
    "phi = np.arctan2(R[2, 1], R[2, 2])\n",
    "\n",
    "# 結果を表示する\n",
    "print('方位 (theta): {:.2f} rad'.format(theta))\n",
    "print('仰角 (psi): {:.2f} rad'.format(psi))\n",
    "print('回転角 (phi): {:.2f} rad'.format(phi))"
   ]
  }
 ],
 "metadata": {
  "kernelspec": {
   "display_name": "python3.9.6",
   "language": "python",
   "name": "python3.9.6"
  },
  "language_info": {
   "codemirror_mode": {
    "name": "ipython",
    "version": 3
   },
   "file_extension": ".py",
   "mimetype": "text/x-python",
   "name": "python",
   "nbconvert_exporter": "python",
   "pygments_lexer": "ipython3",
   "version": "3.9.6"
  }
 },
 "nbformat": 4,
 "nbformat_minor": 4
}
