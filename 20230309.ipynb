{
 "cells": [
  {
   "cell_type": "code",
   "execution_count": 1,
   "metadata": {},
   "outputs": [],
   "source": [
    "import glob,os\n",
    "import openpyxl"
   ]
  },
  {
   "cell_type": "code",
   "execution_count": 8,
   "metadata": {},
   "outputs": [],
   "source": [
    "wb = openpyxl.load_workbook(r\"C:\\Users\\SG\\Documents\\Book2.xlsx\")\n",
    "ws = wb[\"Sheet1\"]\n",
    "#6 = F\n",
    "gosa_dic = {\"1\":[],\"2\":[],\"3\":[],\"4\":[]}\n",
    "for i in range(3,9):\n",
    "    for ii in range(8,11,2):\n",
    "        coord = ws.cell(row=i,column=ii).coordinate\n",
    "        try:\n",
    "            ratio_true = float(ws[\"F\"+str(i)].value)\n",
    "        except:\n",
    "            print(\"error\")\n",
    "            continue\n",
    "        ratio_target = float(ws[coord].value)\n",
    "        gosa = abs(ratio_true-ratio_target)\n",
    "        if ws[\"D\"+str(i)].value ==\"パターン1\":\n",
    "            gosa_dic[\"1\"].append(gosa)\n",
    "        if ws[\"D\"+str(i)].value ==\"パターン2\":\n",
    "            gosa_dic[\"2\"].append(gosa)\n",
    "        if ws[\"D\"+str(i)].value ==\"パターン3\":\n",
    "            gosa_dic[\"3\"].append(gosa)\n",
    "        if ws[\"D\"+str(i)].value ==\"パターン4\":\n",
    "            gosa_dic[\"4\"].append(gosa)"
   ]
  },
  {
   "cell_type": "code",
   "execution_count": 10,
   "metadata": {},
   "outputs": [
    {
     "data": {
      "text/plain": [
       "[0.0, 0.0, 0.0, 0.0]"
      ]
     },
     "execution_count": 10,
     "metadata": {},
     "output_type": "execute_result"
    }
   ],
   "source": [
    "gosa_dic[\"1\"]"
   ]
  }
 ],
 "metadata": {
  "kernelspec": {
   "display_name": "python3.9.6",
   "language": "python",
   "name": "python3.9.6"
  },
  "language_info": {
   "codemirror_mode": {
    "name": "ipython",
    "version": 3
   },
   "file_extension": ".py",
   "mimetype": "text/x-python",
   "name": "python",
   "nbconvert_exporter": "python",
   "pygments_lexer": "ipython3",
   "version": "3.9.6"
  }
 },
 "nbformat": 4,
 "nbformat_minor": 4
}
