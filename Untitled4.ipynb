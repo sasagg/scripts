{
 "cells": [
  {
   "cell_type": "code",
   "execution_count": 1,
   "metadata": {},
   "outputs": [],
   "source": [
    "from selenium import webdriver\n",
    "from selenium.webdriver.common.by import By\n",
    "import openpyxl\n",
    "import numpy as np\n",
    "import os"
   ]
  },
  {
   "cell_type": "code",
   "execution_count": 3,
   "metadata": {},
   "outputs": [],
   "source": [
    "URL = \"http://www.nucia.jp/nucia/kn/KnTroubleSearch.do?reSearchFlg=0&troubleId=&roTypeCode=&fromHasseiYear=&fromHasseiMonth=&fromHasseiDay=&toHasseiYear=&toHasseiMonth=&toHasseiDay=&titleName=&allSearch=&reportNoYear=&reportNoCompany=&reportNoJohoKubun=&reportNoSeq=&plantCode=&fromCreateYear=&fromCreateMonth=&fromCreateDay=&toCreateYear=&toCreateMonth=&toCreateDay=&hokokushoJotaiCode=&fromUpdateYear=&fromUpdateMonth=&fromUpdateDay=&toUpdateYear=&toUpdateMonth=&toUpdateDay=&hokokuKonkyoCode=&hokokuKonkyoInput=&setsubiCode=&keitoCode=&oyaKikiCode=&kikiCode=&oldGeninDaiCode=&oldGeninShoCode=&newGeninDaiCode=&newGeninShoCode=&geninShubetsuList%5B0%5D.geninShubetsuCode=AGING&geninShubetsuList%5B0%5D.geninShubetsuUmuCode=&geninShubetsuList%5B1%5D.geninShubetsuCode=FIRE&geninShubetsuList%5B1%5D.geninShubetsuUmuCode=&inesCode=&inesCompareCode=1&suiheiKentoCode=&pUntenModeCode=&bUntenModeCode=&hoshanoEikyoUmuCode=&kiteiIhanUmuCode=&slHanteikekkaUmuCode=&seigengaiUmuCode=&pAutoAnzenkeiCode=&bAutoAnzenkeiCode=&pManualAnzenkeiCode=&bManualAnzenkeiCode=&freeSearchId1=&freeSearchText1=&freeSearchId2=&freeSearchText2=&freeSearchId3=&freeSearchText3=&freeSearchId4=&freeSearchText4=&freeSearchId5=&freeSearchText5=&sortKind=&sortOrder=desc&pageNum=1&pageRows=100&selectCompanyCode=&selectJohoKubunCode=M&selectPlantCode=&selectUnitNbr=&selectHokokushoJotaiCode=02&selectSuiheiKento=&selectHasseiYear=&pageRows=100\""
   ]
  },
  {
   "cell_type": "code",
   "execution_count": 8,
   "metadata": {},
   "outputs": [
    {
     "name": "stderr",
     "output_type": "stream",
     "text": [
      "C:\\Users\\SG\\AppData\\Local\\Temp\\ipykernel_11332\\1076967289.py:6: DeprecationWarning: executable_path has been deprecated, please pass in a Service object\n",
      "  driver = webdriver.Chrome(driver_path,options=options)\n"
     ]
    }
   ],
   "source": [
    "#chrome driverを解凍し、URLを張る\n",
    "#os.chdir(os.path.dirname(os.path.abspath(__file__)))\n",
    "driver_path = \".\\chromedriver_win32_112.0.5615.49\\chromedriver\"\n",
    "\n",
    "options = webdriver.ChromeOptions()\n",
    "driver = webdriver.Chrome(driver_path,options=options)\n",
    "#指定したURLに遷移\n",
    "driver.get(URL)"
   ]
  },
  {
   "cell_type": "code",
   "execution_count": 5,
   "metadata": {},
   "outputs": [
    {
     "name": "stdout",
     "output_type": "stream",
     "text": [
      "100\n"
     ]
    }
   ],
   "source": [
    "print(len(driver.find_elements(By.CSS_SELECTOR, (\"tr[class='lst01']\"))))"
   ]
  },
  {
   "cell_type": "code",
   "execution_count": 49,
   "metadata": {},
   "outputs": [
    {
     "name": "stdout",
     "output_type": "stream",
     "text": [
      "終了\n"
     ]
    }
   ],
   "source": [
    "\n",
    "try:\n",
    "    a_item = driver.find_element(By.CSS_SELECTOR, (\"ul[class='pg2']\"))\n",
    "    a_item = a_item.find_element(By.XPATH, '//li/a[contains(text(),\"次ページ\")]')#.get_attribute(\"href\")\n",
    "    a_item.click()\n",
    "except:\n",
    "    print(\"終了\")\n",
    "    \n"
   ]
  },
  {
   "cell_type": "code",
   "execution_count": 55,
   "metadata": {},
   "outputs": [],
   "source": [
    "#driver.get(\"http://www.nucia.jp/nucia/kn/KnTroubleView.do?troubleId=13469\")\n",
    "a_item2 = driver.find_element(By.CSS_SELECTOR, (\"td[class='tbl1 det_switch02']\"))\n",
    "a_item3 = a_item2.find_element(By.TAG_NAME, (\"a\"))\n",
    "a_item3.click()"
   ]
  },
  {
   "cell_type": "code",
   "execution_count": 57,
   "metadata": {},
   "outputs": [
    {
     "data": {
      "text/plain": [
       "'面（１次側）からの割れとみられる信号指示で、残りの１本とＢ－ＳＧの１本は、管支持板※５部付近に外面（２次側）からの減肉とみられる信号指示であった。これらのほか、Ａ－ＳＧの伝熱管１本の管支持板部付近に外面（２次側）からの微小な減肉とみられる信号指示（判定基準未満）が認められた。\\nその後、伝熱管の外面減肉については、小型カメラによる損傷箇所の外観調査結果やＳＧ器内から回収したスケール※６の性状等の調査状況から、前回定期検査時に実施したＳＧ器内の薬品洗浄後も残存していた稠密なスケールがプラント運転中に管支持板下面に留まり、伝熱管と繰り返し接触したことで摩耗減肉が発生した可能性が高いと推定したため、引き続き、回収したスケールの形状や性状等の調査や対策等の検討を行うこととした。\\nまた、伝熱管内面に有意な信号指示が認められた原因は、既往知見である応力腐食割れと推定した。\\nなお、本件による環境への放射能の影響はない。\\n\\n※１ 過去に有意な指示が認められ、施栓した管等を除き、Ａ－ＳＧで３，２７２本、Ｂ－ＳＧで３，２４７本、Ｃ－ＳＧで３，２６１本、合計９，７８０本。\\n※２ 高周波電流を流したコイルを伝熱管に接近させることで対象物に渦電流を発生させ、対象物のきず等により生じた渦電流の変化を電気信号として取り出し、きず等を検出する検査であり、伝熱管の内面（１次側）より、伝熱管の内面（１次側）と外面（２次側）の両方を検査している。\\n※３ 割れを示す信号や２０％以上の減肉を示す信号の指示。\\n※４ 蒸気発生器内の伝熱管が取り付けられている部品。伝熱管と管板で、１次冷却材と給水（２次冷却水）の圧力障壁となる。\\n※５ 伝熱管を支持する部品。\\n※６ ２次冷却水に含まれる鉄の微粒子が、ＳＧ内に流れ集まって伝熱管に付着したもの。\\n\\n当社は、これまでの調査結果や原因と対策を取りまとめ、原子力規制委員会に原子炉施設故障等報告書を提出した。今後、原子力規制委員会が当該報告書の確認を行うことから、当社は、真摯に対応していく。'"
      ]
     },
     "execution_count": 57,
     "metadata": {},
     "output_type": "execute_result"
    }
   ],
   "source": [
    "a_item2 = driver.find_element(By.CSS_SELECTOR, (\"td[class='tbl1 det_switch02']\"))\n",
    "a_item2.find_element(By.CSS_SELECTOR, (\"div[class='cmn_hidden']\")).text"
   ]
  },
  {
   "cell_type": "code",
   "execution_count": 6,
   "metadata": {},
   "outputs": [],
   "source": [
    "wb = openpyxl.Workbook()\n",
    "ws = wb.active\n",
    "\n",
    "count = 1\n",
    "d = {}\n",
    "\n",
    "for a_item in driver.find_elements(By.CSS_SELECTOR, (\"tr[class='lst01']\")):\n",
    "    a_item = a_item.find_element(By.TAG_NAME, (\"a\"))\n",
    "    a_item.click()\n",
    "    main_tab = driver.current_window_handle\n",
    "    new_tab = [x for x in driver.window_handles if x != main_tab][0]\n",
    "    driver.switch_to.window(new_tab)\n",
    "    keys = [elem.text for elem in driver.find_elements(By.CSS_SELECTOR, (\"th[class='tblo']\")) if not elem.text==\"水平展開の検討\"]\n",
    "    values = [elem.text for elem in driver.find_elements(By.CSS_SELECTOR, (\"td[class^='tbl']\"))]\n",
    "    for i in range(len(keys)):\n",
    "        d[keys[i]] = values[i].replace(\"\\n\",\"\")\n",
    "\n",
    "    try:\n",
    "        for a_item2 in driver.find_elements(By.CSS_SELECTOR, (\"td[class='tbl1 det_switch02']\")):\n",
    "            a_item3 = a_item2.find_element(By.TAG_NAME, (\"a\"))\n",
    "            a_item3.click()\n",
    "            d[\"事象発生時の状況\"] = d[\"事象発生時の状況\"]+a_item2.find_element(By.CSS_SELECTOR, (\"div[class='cmn_hidden']\")).text\n",
    "            d[\"事象発生時の状況\"] = d[\"事象発生時の状況\"].replace(\"↓続きを読む…\",\"\")\n",
    "        \n",
    "    except:\n",
    "        print(\"「続きを読む」なし\")\n",
    "        \n",
    "    driver.close()\n",
    "    driver.switch_to.window(main_tab)\n",
    "    \n",
    "    if count ==1:\n",
    "        ws[\"A1\"].value = \"Index\"\n",
    "        for i in range(len(keys)):\n",
    "            cl= openpyxl.utils.get_column_letter(i+2)\n",
    "            ws[cl+\"1\"].value = keys[i]\n",
    "    else:\n",
    "        ws[\"A\"+str(count)].value = count-1\n",
    "        for i in range(len(values)):\n",
    "            cl= openpyxl.utils.get_column_letter(i+2)\n",
    "            ws[cl+str(count)].value = values[i]\n",
    "    count +=1\n",
    "driver.close()    \n",
    "wb.save('./20230420.xlsx') "
   ]
  }
 ],
 "metadata": {
  "kernelspec": {
   "display_name": "python3.9.6",
   "language": "python",
   "name": "python3.9.6"
  },
  "language_info": {
   "codemirror_mode": {
    "name": "ipython",
    "version": 3
   },
   "file_extension": ".py",
   "mimetype": "text/x-python",
   "name": "python",
   "nbconvert_exporter": "python",
   "pygments_lexer": "ipython3",
   "version": "3.9.6"
  }
 },
 "nbformat": 4,
 "nbformat_minor": 4
}
